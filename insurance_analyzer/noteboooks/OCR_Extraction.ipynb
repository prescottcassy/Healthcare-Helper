# Install Tesseract OCR engine (required to read text from images)
!sudo apt install tesseract-ocr
# Install Python libraries for OCR (pytesseract) and image processing (Pillow)
!pip install pytesseract pillow

from google.colab import files
# Open a file picker in Google Colab to upload files (e.g., insurance card image)
uploaded = files.upload()

# Import necessary libraries for OCR, image handling, and pattern matching
from PIL import Image
import pytesseract
import re

# Function to run OCR on the given image path and return extracted text
def extract_text(img_path):
    # Convert the image into a string of text using Tesseract OCR
    return pytesseract.image_to_string(Image.open(img_path))

# Function to search the extracted text for insurance-related fields using regex
def extract_insurance_fields(text):
    # Dictionary to hold regex search patterns for specific insurance details
    fields = {
        "Plan Type": re.search(r"(?:Plan Type|Type of Plan):\s*(PPO|HMO|EPO|POS)", text, re.IGNORECASE),
        "Deductible": re.search(r"(?:Individual|Family)?\s*Deductible(?:.*?Annual)?:\s*\$([\d,\.]+)", text, re.IGNORECASE),
        "Copay": re.search(r"Copay(?:ments)?:\s*\$([\d,\.]+)", text, re.IGNORECASE),
        "Out-of-Pocket Max": re.search(r"(?:Individual|Family)?\s*Out-of-Pocket\s*Maximum(?:.*?Annual)?:\s*\$([\d,\.]+)", text, re.IGNORECASE),
        "Member Name": re.search(r"(?:Name|Member Name):\s*(.+)", text, re.IGNORECASE),
        "Member ID": re.search(r"(?:ID|Member ID):\s*([\w\d]+)", text, re.IGNORECASE),
        "Group Number": re.search(r"(?:Group|Group Number):\s*([\w\d]+)", text, re.IGNORECASE),
        "Date of Birth": re.search(r"(?:DOB|Date of Birth):\s*(\d{1,2}/\d{1,2}/\d{2,4})", text, re.IGNORECASE)
    }
    # Return a clean dictionary with extracted values or 'Not found'
    extracted_data = {}
    for key, match in fields.items():
        if match:
            # For groups, return the first captured group, otherwise the whole match
            extracted_data[key] = match.group(1).strip() if match.groups() else match.group(0).strip()
        else:
            extracted_data[key] = "Not found"
    return extracted_data

# Get the uploaded image file name
img_path = list(uploaded.keys())[0]

text = extract_text(img_path)
print(text)

parsed_data = extract_insurance_fields(text)
print(parsed_data)
